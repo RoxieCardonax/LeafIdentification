{
  "cells": [
    {
      "cell_type": "markdown",
      "metadata": {
        "id": "view-in-github",
        "colab_type": "text"
      },
      "source": [
        "<a href=\"https://colab.research.google.com/github/RoxieCardonax/LeafIdentification/blob/main/VGG16_04.ipynb\" target=\"_parent\"><img src=\"https://colab.research.google.com/assets/colab-badge.svg\" alt=\"Open In Colab\"/></a>"
      ]
    },
    {
      "cell_type": "markdown",
      "metadata": {
        "id": "a00787eb-7397-4bb3-90e7-b4f862b6bb5d"
      },
      "source": [
        "# 1.0. Install Dependencies and Setup"
      ],
      "id": "a00787eb-7397-4bb3-90e7-b4f862b6bb5d"
    },
    {
      "cell_type": "code",
      "execution_count": 76,
      "metadata": {
        "colab": {
          "base_uri": "https://localhost:8080/"
        },
        "id": "wrzLd3u5A9sK",
        "outputId": "bd1ceba1-0ea9-4874-ec80-83c9b51958e0"
      },
      "outputs": [
        {
          "output_type": "stream",
          "name": "stdout",
          "text": [
            "Drive already mounted at /content/drive; to attempt to forcibly remount, call drive.mount(\"/content/drive\", force_remount=True).\n"
          ]
        }
      ],
      "source": [
        "from google.colab import drive\n",
        "drive.mount('/content/drive')"
      ],
      "id": "wrzLd3u5A9sK"
    },
    {
      "cell_type": "code",
      "execution_count": 77,
      "metadata": {
        "colab": {
          "base_uri": "https://localhost:8080/"
        },
        "id": "549fae32-5752-45b9-a97a-a666875fc00d",
        "outputId": "96d08528-5f46-41d8-f30a-6da875db344c",
        "scrolled": true
      },
      "outputs": [
        {
          "output_type": "stream",
          "name": "stdout",
          "text": [
            "Requirement already satisfied: tensorflow in /usr/local/lib/python3.10/dist-packages (2.13.0)\n",
            "Requirement already satisfied: opencv-python in /usr/local/lib/python3.10/dist-packages (4.8.0.76)\n",
            "Requirement already satisfied: matplotlib in /usr/local/lib/python3.10/dist-packages (3.7.1)\n",
            "Requirement already satisfied: absl-py>=1.0.0 in /usr/local/lib/python3.10/dist-packages (from tensorflow) (1.4.0)\n",
            "Requirement already satisfied: astunparse>=1.6.0 in /usr/local/lib/python3.10/dist-packages (from tensorflow) (1.6.3)\n",
            "Requirement already satisfied: flatbuffers>=23.1.21 in /usr/local/lib/python3.10/dist-packages (from tensorflow) (23.5.26)\n",
            "Requirement already satisfied: gast<=0.4.0,>=0.2.1 in /usr/local/lib/python3.10/dist-packages (from tensorflow) (0.4.0)\n",
            "Requirement already satisfied: google-pasta>=0.1.1 in /usr/local/lib/python3.10/dist-packages (from tensorflow) (0.2.0)\n",
            "Requirement already satisfied: grpcio<2.0,>=1.24.3 in /usr/local/lib/python3.10/dist-packages (from tensorflow) (1.58.0)\n",
            "Requirement already satisfied: h5py>=2.9.0 in /usr/local/lib/python3.10/dist-packages (from tensorflow) (3.9.0)\n",
            "Requirement already satisfied: keras<2.14,>=2.13.1 in /usr/local/lib/python3.10/dist-packages (from tensorflow) (2.13.1)\n",
            "Requirement already satisfied: libclang>=13.0.0 in /usr/local/lib/python3.10/dist-packages (from tensorflow) (16.0.6)\n",
            "Requirement already satisfied: numpy<=1.24.3,>=1.22 in /usr/local/lib/python3.10/dist-packages (from tensorflow) (1.23.5)\n",
            "Requirement already satisfied: opt-einsum>=2.3.2 in /usr/local/lib/python3.10/dist-packages (from tensorflow) (3.3.0)\n",
            "Requirement already satisfied: packaging in /usr/local/lib/python3.10/dist-packages (from tensorflow) (23.1)\n",
            "Requirement already satisfied: protobuf!=4.21.0,!=4.21.1,!=4.21.2,!=4.21.3,!=4.21.4,!=4.21.5,<5.0.0dev,>=3.20.3 in /usr/local/lib/python3.10/dist-packages (from tensorflow) (3.20.3)\n",
            "Requirement already satisfied: setuptools in /usr/local/lib/python3.10/dist-packages (from tensorflow) (67.7.2)\n",
            "Requirement already satisfied: six>=1.12.0 in /usr/local/lib/python3.10/dist-packages (from tensorflow) (1.16.0)\n",
            "Requirement already satisfied: tensorboard<2.14,>=2.13 in /usr/local/lib/python3.10/dist-packages (from tensorflow) (2.13.0)\n",
            "Requirement already satisfied: tensorflow-estimator<2.14,>=2.13.0 in /usr/local/lib/python3.10/dist-packages (from tensorflow) (2.13.0)\n",
            "Requirement already satisfied: termcolor>=1.1.0 in /usr/local/lib/python3.10/dist-packages (from tensorflow) (2.3.0)\n",
            "Requirement already satisfied: typing-extensions<4.6.0,>=3.6.6 in /usr/local/lib/python3.10/dist-packages (from tensorflow) (4.5.0)\n",
            "Requirement already satisfied: wrapt>=1.11.0 in /usr/local/lib/python3.10/dist-packages (from tensorflow) (1.15.0)\n",
            "Requirement already satisfied: tensorflow-io-gcs-filesystem>=0.23.1 in /usr/local/lib/python3.10/dist-packages (from tensorflow) (0.34.0)\n",
            "Requirement already satisfied: contourpy>=1.0.1 in /usr/local/lib/python3.10/dist-packages (from matplotlib) (1.1.1)\n",
            "Requirement already satisfied: cycler>=0.10 in /usr/local/lib/python3.10/dist-packages (from matplotlib) (0.12.0)\n",
            "Requirement already satisfied: fonttools>=4.22.0 in /usr/local/lib/python3.10/dist-packages (from matplotlib) (4.43.0)\n",
            "Requirement already satisfied: kiwisolver>=1.0.1 in /usr/local/lib/python3.10/dist-packages (from matplotlib) (1.4.5)\n",
            "Requirement already satisfied: pillow>=6.2.0 in /usr/local/lib/python3.10/dist-packages (from matplotlib) (9.4.0)\n",
            "Requirement already satisfied: pyparsing>=2.3.1 in /usr/local/lib/python3.10/dist-packages (from matplotlib) (3.1.1)\n",
            "Requirement already satisfied: python-dateutil>=2.7 in /usr/local/lib/python3.10/dist-packages (from matplotlib) (2.8.2)\n",
            "Requirement already satisfied: wheel<1.0,>=0.23.0 in /usr/local/lib/python3.10/dist-packages (from astunparse>=1.6.0->tensorflow) (0.41.2)\n",
            "Requirement already satisfied: google-auth<3,>=1.6.3 in /usr/local/lib/python3.10/dist-packages (from tensorboard<2.14,>=2.13->tensorflow) (2.17.3)\n",
            "Requirement already satisfied: google-auth-oauthlib<1.1,>=0.5 in /usr/local/lib/python3.10/dist-packages (from tensorboard<2.14,>=2.13->tensorflow) (1.0.0)\n",
            "Requirement already satisfied: markdown>=2.6.8 in /usr/local/lib/python3.10/dist-packages (from tensorboard<2.14,>=2.13->tensorflow) (3.4.4)\n",
            "Requirement already satisfied: requests<3,>=2.21.0 in /usr/local/lib/python3.10/dist-packages (from tensorboard<2.14,>=2.13->tensorflow) (2.31.0)\n",
            "Requirement already satisfied: tensorboard-data-server<0.8.0,>=0.7.0 in /usr/local/lib/python3.10/dist-packages (from tensorboard<2.14,>=2.13->tensorflow) (0.7.1)\n",
            "Requirement already satisfied: werkzeug>=1.0.1 in /usr/local/lib/python3.10/dist-packages (from tensorboard<2.14,>=2.13->tensorflow) (2.3.7)\n",
            "Requirement already satisfied: cachetools<6.0,>=2.0.0 in /usr/local/lib/python3.10/dist-packages (from google-auth<3,>=1.6.3->tensorboard<2.14,>=2.13->tensorflow) (5.3.1)\n",
            "Requirement already satisfied: pyasn1-modules>=0.2.1 in /usr/local/lib/python3.10/dist-packages (from google-auth<3,>=1.6.3->tensorboard<2.14,>=2.13->tensorflow) (0.3.0)\n",
            "Requirement already satisfied: rsa<5,>=3.1.4 in /usr/local/lib/python3.10/dist-packages (from google-auth<3,>=1.6.3->tensorboard<2.14,>=2.13->tensorflow) (4.9)\n",
            "Requirement already satisfied: requests-oauthlib>=0.7.0 in /usr/local/lib/python3.10/dist-packages (from google-auth-oauthlib<1.1,>=0.5->tensorboard<2.14,>=2.13->tensorflow) (1.3.1)\n",
            "Requirement already satisfied: charset-normalizer<4,>=2 in /usr/local/lib/python3.10/dist-packages (from requests<3,>=2.21.0->tensorboard<2.14,>=2.13->tensorflow) (3.2.0)\n",
            "Requirement already satisfied: idna<4,>=2.5 in /usr/local/lib/python3.10/dist-packages (from requests<3,>=2.21.0->tensorboard<2.14,>=2.13->tensorflow) (3.4)\n",
            "Requirement already satisfied: urllib3<3,>=1.21.1 in /usr/local/lib/python3.10/dist-packages (from requests<3,>=2.21.0->tensorboard<2.14,>=2.13->tensorflow) (2.0.5)\n",
            "Requirement already satisfied: certifi>=2017.4.17 in /usr/local/lib/python3.10/dist-packages (from requests<3,>=2.21.0->tensorboard<2.14,>=2.13->tensorflow) (2023.7.22)\n",
            "Requirement already satisfied: MarkupSafe>=2.1.1 in /usr/local/lib/python3.10/dist-packages (from werkzeug>=1.0.1->tensorboard<2.14,>=2.13->tensorflow) (2.1.3)\n",
            "Requirement already satisfied: pyasn1<0.6.0,>=0.4.6 in /usr/local/lib/python3.10/dist-packages (from pyasn1-modules>=0.2.1->google-auth<3,>=1.6.3->tensorboard<2.14,>=2.13->tensorflow) (0.5.0)\n",
            "Requirement already satisfied: oauthlib>=3.0.0 in /usr/local/lib/python3.10/dist-packages (from requests-oauthlib>=0.7.0->google-auth-oauthlib<1.1,>=0.5->tensorboard<2.14,>=2.13->tensorflow) (3.2.2)\n"
          ]
        }
      ],
      "source": [
        "!pip install tensorflow opencv-python matplotlib"
      ],
      "id": "549fae32-5752-45b9-a97a-a666875fc00d"
    },
    {
      "cell_type": "code",
      "execution_count": 78,
      "metadata": {
        "colab": {
          "base_uri": "https://localhost:8080/"
        },
        "id": "405ee3d7-99d4-4a77-9f10-cb9ccca86db1",
        "outputId": "92ffeab0-b66e-4219-819d-840b4231295e",
        "scrolled": true
      },
      "outputs": [
        {
          "output_type": "stream",
          "name": "stdout",
          "text": [
            "Requirement already satisfied: scikit-learn in /usr/local/lib/python3.10/dist-packages (1.2.2)\n",
            "Requirement already satisfied: numpy>=1.17.3 in /usr/local/lib/python3.10/dist-packages (from scikit-learn) (1.23.5)\n",
            "Requirement already satisfied: scipy>=1.3.2 in /usr/local/lib/python3.10/dist-packages (from scikit-learn) (1.11.3)\n",
            "Requirement already satisfied: joblib>=1.1.1 in /usr/local/lib/python3.10/dist-packages (from scikit-learn) (1.3.2)\n",
            "Requirement already satisfied: threadpoolctl>=2.0.0 in /usr/local/lib/python3.10/dist-packages (from scikit-learn) (3.2.0)\n"
          ]
        }
      ],
      "source": [
        "!pip install scikit-learn"
      ],
      "id": "405ee3d7-99d4-4a77-9f10-cb9ccca86db1"
    },
    {
      "cell_type": "code",
      "execution_count": 79,
      "metadata": {
        "colab": {
          "base_uri": "https://localhost:8080/"
        },
        "id": "6ba8340e-7042-4db8-917f-454dd2fcad89",
        "outputId": "a92f27e9-4745-4d9f-c5dc-2198b809b06d",
        "scrolled": true
      },
      "outputs": [
        {
          "output_type": "stream",
          "name": "stdout",
          "text": [
            "Package                          Version\n",
            "-------------------------------- ---------------------\n",
            "absl-py                          1.4.0\n",
            "aiohttp                          3.8.5\n",
            "aiosignal                        1.3.1\n",
            "alabaster                        0.7.13\n",
            "albumentations                   1.3.1\n",
            "altair                           4.2.2\n",
            "anyio                            3.7.1\n",
            "appdirs                          1.4.4\n",
            "argon2-cffi                      23.1.0\n",
            "argon2-cffi-bindings             21.2.0\n",
            "array-record                     0.4.1\n",
            "arviz                            0.15.1\n",
            "astropy                          5.3.3\n",
            "astunparse                       1.6.3\n",
            "async-timeout                    4.0.3\n",
            "attrs                            23.1.0\n",
            "audioread                        3.0.1\n",
            "autograd                         1.6.2\n",
            "Babel                            2.12.1\n",
            "backcall                         0.2.0\n",
            "beautifulsoup4                   4.11.2\n",
            "bleach                           6.0.0\n",
            "blinker                          1.4\n",
            "blis                             0.7.11\n",
            "blosc2                           2.0.0\n",
            "bokeh                            3.2.2\n",
            "bqplot                           0.12.40\n",
            "branca                           0.6.0\n",
            "build                            1.0.3\n",
            "CacheControl                     0.13.1\n",
            "cachetools                       5.3.1\n",
            "catalogue                        2.0.10\n",
            "certifi                          2023.7.22\n",
            "cffi                             1.16.0\n",
            "chardet                          5.2.0\n",
            "charset-normalizer               3.2.0\n",
            "chex                             0.1.7\n",
            "click                            8.1.7\n",
            "click-plugins                    1.1.1\n",
            "cligj                            0.7.2\n",
            "cloudpickle                      2.2.1\n",
            "cmake                            3.27.5\n",
            "cmdstanpy                        1.1.0\n",
            "colorcet                         3.0.1\n",
            "colorlover                       0.3.0\n",
            "colour                           0.1.5\n",
            "community                        1.0.0b1\n",
            "confection                       0.1.3\n",
            "cons                             0.4.6\n",
            "contextlib2                      21.6.0\n",
            "contourpy                        1.1.1\n",
            "convertdate                      2.4.0\n",
            "cryptography                     41.0.4\n",
            "cufflinks                        0.17.3\n",
            "cupy-cuda11x                     11.0.0\n",
            "cvxopt                           1.3.2\n",
            "cvxpy                            1.3.2\n",
            "cycler                           0.12.0\n",
            "cymem                            2.0.8\n",
            "Cython                           3.0.2\n",
            "dask                             2023.8.1\n",
            "datascience                      0.17.6\n",
            "db-dtypes                        1.1.1\n",
            "dbus-python                      1.2.18\n",
            "debugpy                          1.6.6\n",
            "decorator                        4.4.2\n",
            "defusedxml                       0.7.1\n",
            "distributed                      2023.8.1\n",
            "distro                           1.7.0\n",
            "dlib                             19.24.2\n",
            "dm-tree                          0.1.8\n",
            "docutils                         0.18.1\n",
            "dopamine-rl                      4.0.6\n",
            "duckdb                           0.8.1\n",
            "earthengine-api                  0.1.371\n",
            "easydict                         1.10\n",
            "ecos                             2.0.12\n",
            "editdistance                     0.6.2\n",
            "eerepr                           0.0.4\n",
            "en-core-web-sm                   3.6.0\n",
            "entrypoints                      0.4\n",
            "ephem                            4.1.4\n",
            "et-xmlfile                       1.1.0\n",
            "etils                            1.5.0\n",
            "etuples                          0.3.9\n",
            "exceptiongroup                   1.1.3\n",
            "fastai                           2.7.12\n",
            "fastcore                         1.5.29\n",
            "fastdownload                     0.0.7\n",
            "fastjsonschema                   2.18.0\n",
            "fastprogress                     1.0.3\n",
            "fastrlock                        0.8.2\n",
            "filelock                         3.12.4\n",
            "Fiona                            1.9.4.post1\n",
            "firebase-admin                   5.3.0\n",
            "Flask                            2.2.5\n",
            "flatbuffers                      23.5.26\n",
            "flax                             0.7.4\n",
            "folium                           0.14.0\n",
            "fonttools                        4.43.0\n",
            "frozendict                       2.3.8\n",
            "frozenlist                       1.4.0\n",
            "fsspec                           2023.6.0\n",
            "future                           0.18.3\n",
            "gast                             0.4.0\n",
            "gcsfs                            2023.6.0\n",
            "GDAL                             3.4.3\n",
            "gdown                            4.6.6\n",
            "geemap                           0.27.3\n",
            "gensim                           4.3.2\n",
            "geocoder                         1.38.1\n",
            "geographiclib                    2.0\n",
            "geopandas                        0.13.2\n",
            "geopy                            2.3.0\n",
            "gin-config                       0.5.0\n",
            "glob2                            0.7\n",
            "google                           2.0.3\n",
            "google-api-core                  2.11.1\n",
            "google-api-python-client         2.84.0\n",
            "google-auth                      2.17.3\n",
            "google-auth-httplib2             0.1.1\n",
            "google-auth-oauthlib             1.0.0\n",
            "google-cloud-bigquery            3.10.0\n",
            "google-cloud-bigquery-connection 1.12.1\n",
            "google-cloud-bigquery-storage    2.22.0\n",
            "google-cloud-core                2.3.3\n",
            "google-cloud-datastore           2.15.2\n",
            "google-cloud-firestore           2.11.1\n",
            "google-cloud-functions           1.13.3\n",
            "google-cloud-language            2.9.1\n",
            "google-cloud-storage             2.8.0\n",
            "google-cloud-translate           3.11.3\n",
            "google-colab                     1.0.0\n",
            "google-crc32c                    1.5.0\n",
            "google-pasta                     0.2.0\n",
            "google-resumable-media           2.6.0\n",
            "googleapis-common-protos         1.60.0\n",
            "googledrivedownloader            0.4\n",
            "graphviz                         0.20.1\n",
            "greenlet                         2.0.2\n",
            "grpc-google-iam-v1               0.12.6\n",
            "grpcio                           1.58.0\n",
            "grpcio-status                    1.48.2\n",
            "gspread                          3.4.2\n",
            "gspread-dataframe                3.3.1\n",
            "gym                              0.25.2\n",
            "gym-notices                      0.0.8\n",
            "h5netcdf                         1.2.0\n",
            "h5py                             3.9.0\n",
            "holidays                         0.33\n",
            "holoviews                        1.17.1\n",
            "html5lib                         1.1\n",
            "httpimport                       1.3.1\n",
            "httplib2                         0.22.0\n",
            "humanize                         4.7.0\n",
            "hyperopt                         0.2.7\n",
            "idna                             3.4\n",
            "imageio                          2.31.4\n",
            "imageio-ffmpeg                   0.4.9\n",
            "imagesize                        1.4.1\n",
            "imbalanced-learn                 0.10.1\n",
            "imgaug                           0.4.0\n",
            "importlib-metadata               6.8.0\n",
            "importlib-resources              6.1.0\n",
            "imutils                          0.5.4\n",
            "inflect                          7.0.0\n",
            "iniconfig                        2.0.0\n",
            "intel-openmp                     2023.2.0\n",
            "ipyevents                        2.0.2\n",
            "ipyfilechooser                   0.6.0\n",
            "ipykernel                        5.5.6\n",
            "ipyleaflet                       0.17.4\n",
            "ipython                          7.34.0\n",
            "ipython-genutils                 0.2.0\n",
            "ipython-sql                      0.5.0\n",
            "ipytree                          0.2.2\n",
            "ipywidgets                       7.7.1\n",
            "itsdangerous                     2.1.2\n",
            "jax                              0.4.14\n",
            "jaxlib                           0.4.14+cuda11.cudnn86\n",
            "jeepney                          0.7.1\n",
            "jieba                            0.42.1\n",
            "Jinja2                           3.1.2\n",
            "joblib                           1.3.2\n",
            "jsonpickle                       3.0.2\n",
            "jsonschema                       4.19.1\n",
            "jsonschema-specifications        2023.7.1\n",
            "jupyter-client                   6.1.12\n",
            "jupyter-console                  6.1.0\n",
            "jupyter_core                     5.3.2\n",
            "jupyter-server                   1.24.0\n",
            "jupyterlab-pygments              0.2.2\n",
            "jupyterlab-widgets               3.0.9\n",
            "kaggle                           1.5.16\n",
            "keras                            2.13.1\n",
            "keyring                          23.5.0\n",
            "kiwisolver                       1.4.5\n",
            "langcodes                        3.3.0\n",
            "launchpadlib                     1.10.16\n",
            "lazr.restfulclient               0.14.4\n",
            "lazr.uri                         1.0.6\n",
            "lazy_loader                      0.3\n",
            "libclang                         16.0.6\n",
            "librosa                          0.10.1\n",
            "lightgbm                         4.0.0\n",
            "linkify-it-py                    2.0.2\n",
            "lit                              17.0.1\n",
            "llvmlite                         0.39.1\n",
            "locket                           1.0.0\n",
            "logical-unification              0.4.6\n",
            "LunarCalendar                    0.0.9\n",
            "lxml                             4.9.3\n",
            "Markdown                         3.4.4\n",
            "markdown-it-py                   3.0.0\n",
            "MarkupSafe                       2.1.3\n",
            "matplotlib                       3.7.1\n",
            "matplotlib-inline                0.1.6\n",
            "matplotlib-venn                  0.11.9\n",
            "mdit-py-plugins                  0.4.0\n",
            "mdurl                            0.1.2\n",
            "miniKanren                       1.0.3\n",
            "missingno                        0.5.2\n",
            "mistune                          0.8.4\n",
            "mizani                           0.9.3\n",
            "mkl                              2023.2.0\n",
            "ml-dtypes                        0.3.1\n",
            "mlxtend                          0.22.0\n",
            "more-itertools                   10.1.0\n",
            "moviepy                          1.0.3\n",
            "mpmath                           1.3.0\n",
            "msgpack                          1.0.7\n",
            "multidict                        6.0.4\n",
            "multipledispatch                 1.0.0\n",
            "multitasking                     0.0.11\n",
            "murmurhash                       1.0.10\n",
            "music21                          9.1.0\n",
            "natsort                          8.4.0\n",
            "nbclassic                        1.0.0\n",
            "nbclient                         0.8.0\n",
            "nbconvert                        6.5.4\n",
            "nbformat                         5.9.2\n",
            "nest-asyncio                     1.5.8\n",
            "networkx                         3.1\n",
            "nibabel                          4.0.2\n",
            "nltk                             3.8.1\n",
            "notebook                         6.5.5\n",
            "notebook_shim                    0.2.3\n",
            "numba                            0.56.4\n",
            "numexpr                          2.8.7\n",
            "numpy                            1.23.5\n",
            "oauth2client                     4.1.3\n",
            "oauthlib                         3.2.2\n",
            "opencv-contrib-python            4.8.0.76\n",
            "opencv-python                    4.8.0.76\n",
            "opencv-python-headless           4.8.1.78\n",
            "openpyxl                         3.1.2\n",
            "opt-einsum                       3.3.0\n",
            "optax                            0.1.7\n",
            "orbax-checkpoint                 0.4.1\n",
            "osqp                             0.6.2.post8\n",
            "packaging                        23.1\n",
            "pandas                           1.5.3\n",
            "pandas-datareader                0.10.0\n",
            "pandas-gbq                       0.17.9\n",
            "pandocfilters                    1.5.0\n",
            "panel                            1.2.3\n",
            "param                            1.13.0\n",
            "parso                            0.8.3\n",
            "partd                            1.4.1\n",
            "pathlib                          1.0.1\n",
            "pathy                            0.10.2\n",
            "patsy                            0.5.3\n",
            "peewee                           3.16.3\n",
            "pexpect                          4.8.0\n",
            "pickleshare                      0.7.5\n",
            "Pillow                           9.4.0\n",
            "pip                              23.1.2\n",
            "pip-tools                        6.13.0\n",
            "platformdirs                     3.10.0\n",
            "plotly                           5.15.0\n",
            "plotnine                         0.12.3\n",
            "pluggy                           1.3.0\n",
            "polars                           0.17.3\n",
            "pooch                            1.7.0\n",
            "portpicker                       1.5.2\n",
            "prefetch-generator               1.0.3\n",
            "preshed                          3.0.9\n",
            "prettytable                      3.9.0\n",
            "proglog                          0.1.10\n",
            "progressbar2                     4.2.0\n",
            "prometheus-client                0.17.1\n",
            "promise                          2.3\n",
            "prompt-toolkit                   3.0.39\n",
            "prophet                          1.1.4\n",
            "proto-plus                       1.22.3\n",
            "protobuf                         3.20.3\n",
            "psutil                           5.9.5\n",
            "psycopg2                         2.9.8\n",
            "ptyprocess                       0.7.0\n",
            "py-cpuinfo                       9.0.0\n",
            "py4j                             0.10.9.7\n",
            "pyarrow                          9.0.0\n",
            "pyasn1                           0.5.0\n",
            "pyasn1-modules                   0.3.0\n",
            "pycocotools                      2.0.7\n",
            "pycparser                        2.21\n",
            "pyct                             0.5.0\n",
            "pydantic                         1.10.13\n",
            "pydata-google-auth               1.8.2\n",
            "pydot                            1.4.2\n",
            "pydot-ng                         2.0.0\n",
            "pydotplus                        2.0.2\n",
            "PyDrive                          1.3.1\n",
            "PyDrive2                         1.6.3\n",
            "pyerfa                           2.0.0.3\n",
            "pygame                           2.5.2\n",
            "Pygments                         2.16.1\n",
            "PyGObject                        3.42.1\n",
            "PyJWT                            2.3.0\n",
            "pymc                             5.7.2\n",
            "PyMeeus                          0.5.12\n",
            "pymystem3                        0.2.0\n",
            "PyOpenGL                         3.1.7\n",
            "pyOpenSSL                        23.2.0\n",
            "pyparsing                        3.1.1\n",
            "pyperclip                        1.8.2\n",
            "pyproj                           3.6.1\n",
            "pyproject_hooks                  1.0.0\n",
            "pyshp                            2.3.1\n",
            "PySocks                          1.7.1\n",
            "pytensor                         2.14.2\n",
            "pytest                           7.4.2\n",
            "python-apt                       0.0.0\n",
            "python-box                       7.1.1\n",
            "python-dateutil                  2.8.2\n",
            "python-louvain                   0.16\n",
            "python-slugify                   8.0.1\n",
            "python-utils                     3.8.1\n",
            "pytz                             2023.3.post1\n",
            "pyviz_comms                      3.0.0\n",
            "PyWavelets                       1.4.1\n",
            "PyYAML                           6.0.1\n",
            "pyzmq                            23.2.1\n",
            "qdldl                            0.1.7.post0\n",
            "qudida                           0.0.4\n",
            "ratelim                          0.1.6\n",
            "referencing                      0.30.2\n",
            "regex                            2023.6.3\n",
            "requests                         2.31.0\n",
            "requests-oauthlib                1.3.1\n",
            "requirements-parser              0.5.0\n",
            "rich                             13.5.3\n",
            "rpds-py                          0.10.3\n",
            "rpy2                             3.4.2\n",
            "rsa                              4.9\n",
            "scikit-image                     0.19.3\n",
            "scikit-learn                     1.2.2\n",
            "scipy                            1.11.3\n",
            "scooby                           0.7.3\n",
            "scs                              3.2.3\n",
            "seaborn                          0.12.2\n",
            "SecretStorage                    3.3.1\n",
            "Send2Trash                       1.8.2\n",
            "setuptools                       67.7.2\n",
            "shapely                          2.0.1\n",
            "six                              1.16.0\n",
            "sklearn-pandas                   2.2.0\n",
            "smart-open                       6.4.0\n",
            "sniffio                          1.3.0\n",
            "snowballstemmer                  2.2.0\n",
            "sortedcontainers                 2.4.0\n",
            "soundfile                        0.12.1\n",
            "soupsieve                        2.5\n",
            "soxr                             0.3.6\n",
            "spacy                            3.6.1\n",
            "spacy-legacy                     3.0.12\n",
            "spacy-loggers                    1.0.5\n",
            "Sphinx                           5.0.2\n",
            "sphinxcontrib-applehelp          1.0.7\n",
            "sphinxcontrib-devhelp            1.0.5\n",
            "sphinxcontrib-htmlhelp           2.0.4\n",
            "sphinxcontrib-jsmath             1.0.1\n",
            "sphinxcontrib-qthelp             1.0.6\n",
            "sphinxcontrib-serializinghtml    1.1.9\n",
            "SQLAlchemy                       2.0.21\n",
            "sqlparse                         0.4.4\n",
            "srsly                            2.4.8\n",
            "statsmodels                      0.14.0\n",
            "sympy                            1.12\n",
            "tables                           3.8.0\n",
            "tabulate                         0.9.0\n",
            "tbb                              2021.10.0\n",
            "tblib                            2.0.0\n",
            "tenacity                         8.2.3\n",
            "tensorboard                      2.13.0\n",
            "tensorboard-data-server          0.7.1\n",
            "tensorflow                       2.13.0\n",
            "tensorflow-datasets              4.9.3\n",
            "tensorflow-estimator             2.13.0\n",
            "tensorflow-gcs-config            2.13.0\n",
            "tensorflow-hub                   0.14.0\n",
            "tensorflow-io-gcs-filesystem     0.34.0\n",
            "tensorflow-metadata              1.14.0\n",
            "tensorflow-probability           0.20.1\n",
            "tensorstore                      0.1.44\n",
            "termcolor                        2.3.0\n",
            "terminado                        0.17.1\n",
            "text-unidecode                   1.3\n",
            "textblob                         0.17.1\n",
            "tf-slim                          1.1.0\n",
            "thinc                            8.1.12\n",
            "threadpoolctl                    3.2.0\n",
            "tifffile                         2023.9.26\n",
            "tinycss2                         1.2.1\n",
            "toml                             0.10.2\n",
            "tomli                            2.0.1\n",
            "toolz                            0.12.0\n",
            "torch                            2.0.1+cu118\n",
            "torchaudio                       2.0.2+cu118\n",
            "torchdata                        0.6.1\n",
            "torchsummary                     1.5.1\n",
            "torchtext                        0.15.2\n",
            "torchvision                      0.15.2+cu118\n",
            "tornado                          6.3.2\n",
            "tqdm                             4.66.1\n",
            "traitlets                        5.7.1\n",
            "traittypes                       0.2.1\n",
            "triton                           2.0.0\n",
            "tweepy                           4.13.0\n",
            "typer                            0.9.0\n",
            "types-setuptools                 68.2.0.0\n",
            "typing_extensions                4.5.0\n",
            "tzlocal                          5.0.1\n",
            "uc-micro-py                      1.0.2\n",
            "uritemplate                      4.1.1\n",
            "urllib3                          2.0.5\n",
            "vega-datasets                    0.9.0\n",
            "wadllib                          1.3.6\n",
            "wasabi                           1.1.2\n",
            "wcwidth                          0.2.7\n",
            "webcolors                        1.13\n",
            "webencodings                     0.5.1\n",
            "websocket-client                 1.6.3\n",
            "Werkzeug                         2.3.7\n",
            "wheel                            0.41.2\n",
            "widgetsnbextension               3.6.6\n",
            "wordcloud                        1.9.2\n",
            "wrapt                            1.15.0\n",
            "xarray                           2023.7.0\n",
            "xarray-einstats                  0.6.0\n",
            "xgboost                          2.0.0\n",
            "xlrd                             2.0.1\n",
            "xyzservices                      2023.7.0\n",
            "yarl                             1.9.2\n",
            "yellowbrick                      1.5\n",
            "yfinance                         0.2.30\n",
            "zict                             3.0.0\n",
            "zipp                             3.17.0\n"
          ]
        }
      ],
      "source": [
        "!pip list"
      ],
      "id": "6ba8340e-7042-4db8-917f-454dd2fcad89"
    },
    {
      "cell_type": "code",
      "execution_count": 80,
      "metadata": {
        "colab": {
          "base_uri": "https://localhost:8080/"
        },
        "id": "akoNFUTuI_9j",
        "outputId": "53cbc7b5-3528-4f4e-9cc9-d6c0d7d49b42"
      },
      "outputs": [
        {
          "output_type": "stream",
          "name": "stdout",
          "text": [
            "Requirement already satisfied: keras in /usr/local/lib/python3.10/dist-packages (2.13.1)\n"
          ]
        }
      ],
      "source": [
        "!pip install keras"
      ],
      "id": "akoNFUTuI_9j"
    },
    {
      "cell_type": "code",
      "execution_count": 81,
      "metadata": {
        "id": "8add44fd-1c72-4d7a-baa4-a9b8cf8bc225"
      },
      "outputs": [],
      "source": [
        "import tensorflow as tf\n",
        "import os"
      ],
      "id": "8add44fd-1c72-4d7a-baa4-a9b8cf8bc225"
    },
    {
      "cell_type": "code",
      "execution_count": 82,
      "metadata": {
        "colab": {
          "base_uri": "https://localhost:8080/"
        },
        "id": "fa2dbf8b-c60d-4ae8-ba38-8d06c96ca606",
        "outputId": "31ee600f-d978-4168-93bf-7fa143198f67",
        "scrolled": true
      },
      "outputs": [
        {
          "output_type": "stream",
          "name": "stderr",
          "text": [
            "/usr/local/lib/python3.10/dist-packages/tensorflow/python/client/session.py:1770: UserWarning: An interactive session is already active. This can cause out-of-memory errors in some cases. You must explicitly call `InteractiveSession.close()` to release resources held by the other session(s).\n",
            "  warnings.warn('An interactive session is already active. This can '\n"
          ]
        },
        {
          "output_type": "stream",
          "name": "stdout",
          "text": [
            "Thu Oct  5 00:34:55 2023       \n",
            "+-----------------------------------------------------------------------------+\n",
            "| NVIDIA-SMI 525.105.17   Driver Version: 525.105.17   CUDA Version: 12.0     |\n",
            "|-------------------------------+----------------------+----------------------+\n",
            "| GPU  Name        Persistence-M| Bus-Id        Disp.A | Volatile Uncorr. ECC |\n",
            "| Fan  Temp  Perf  Pwr:Usage/Cap|         Memory-Usage | GPU-Util  Compute M. |\n",
            "|                               |                      |               MIG M. |\n",
            "|===============================+======================+======================|\n",
            "|   0  Tesla T4            Off  | 00000000:00:04.0 Off |                    0 |\n",
            "| N/A   69C    P0    30W /  70W |   8997MiB / 15360MiB |      0%      Default |\n",
            "|                               |                      |                  N/A |\n",
            "+-------------------------------+----------------------+----------------------+\n",
            "                                                                               \n",
            "+-----------------------------------------------------------------------------+\n",
            "| Processes:                                                                  |\n",
            "|  GPU   GI   CI        PID   Type   Process name                  GPU Memory |\n",
            "|        ID   ID                                                   Usage      |\n",
            "|=============================================================================|\n",
            "+-----------------------------------------------------------------------------+\n"
          ]
        }
      ],
      "source": [
        "#Only use 50% of GPU\n",
        "from tensorflow.compat.v1 import ConfigProto\n",
        "from tensorflow.compat.v1 import InteractiveSession\n",
        "\n",
        "config = ConfigProto()\n",
        "config.gpu_options.per_process_gpu_memory_fraction = 0.5\n",
        "config.gpu_options.allow_growth = True\n",
        "session = InteractiveSession(config=config)\n",
        "\n",
        "gpu_info = !nvidia-smi\n",
        "gpu_info = '\\n'.join(gpu_info)\n",
        "if gpu_info.find('failed') >= 0:\n",
        "  print('Not connected to a GPU')\n",
        "else:\n",
        "  print(gpu_info)"
      ],
      "id": "fa2dbf8b-c60d-4ae8-ba38-8d06c96ca606"
    },
    {
      "cell_type": "markdown",
      "metadata": {
        "id": "028985e6-cb84-494b-a7e0-8a6697a94d95"
      },
      "source": [
        "## 1.1. Remove Dodgy Image"
      ],
      "id": "028985e6-cb84-494b-a7e0-8a6697a94d95"
    },
    {
      "cell_type": "code",
      "execution_count": 83,
      "metadata": {
        "id": "097fe32d-b465-4e44-ada9-b0eb84770fb0"
      },
      "outputs": [],
      "source": [
        "import cv2\n",
        "import imghdr # allows to check file extensions\n",
        "from matplotlib import pyplot as plt"
      ],
      "id": "097fe32d-b465-4e44-ada9-b0eb84770fb0"
    },
    {
      "cell_type": "code",
      "execution_count": 84,
      "metadata": {
        "id": "3a898e04-ad6b-4c05-8704-4303398b4ad6"
      },
      "outputs": [],
      "source": [
        "data_dir = '/content/drive/MyDrive/leafhealth/resize_data' #variable to hold path to data directory"
      ],
      "id": "3a898e04-ad6b-4c05-8704-4303398b4ad6"
    },
    {
      "cell_type": "code",
      "execution_count": 85,
      "metadata": {
        "id": "2d5783f7-7eb0-4e47-a1b2-05b5e17036f0"
      },
      "outputs": [],
      "source": [
        "image_extensions = ['jpeg','jpg', 'bmp', 'png'] #list of standard image file extensions"
      ],
      "id": "2d5783f7-7eb0-4e47-a1b2-05b5e17036f0"
    },
    {
      "cell_type": "code",
      "execution_count": 86,
      "metadata": {
        "id": "eb0a7cef-e796-4b16-8f42-c7b00358a2c0",
        "scrolled": true,
        "colab": {
          "base_uri": "https://localhost:8080/",
          "height": 246
        },
        "outputId": "590e4b17-1f3e-4c10-c239-14c7593234b1"
      },
      "outputs": [
        {
          "output_type": "error",
          "ename": "KeyboardInterrupt",
          "evalue": "ignored",
          "traceback": [
            "\u001b[0;31m---------------------------------------------------------------------------\u001b[0m",
            "\u001b[0;31mKeyboardInterrupt\u001b[0m                         Traceback (most recent call last)",
            "\u001b[0;32m<ipython-input-86-67ef00f08e9d>\u001b[0m in \u001b[0;36m<cell line: 2>\u001b[0;34m()\u001b[0m\n\u001b[1;32m      4\u001b[0m         \u001b[0mimage_path\u001b[0m \u001b[0;34m=\u001b[0m \u001b[0mos\u001b[0m\u001b[0;34m.\u001b[0m\u001b[0mpath\u001b[0m\u001b[0;34m.\u001b[0m\u001b[0mjoin\u001b[0m\u001b[0;34m(\u001b[0m\u001b[0mdata_dir\u001b[0m\u001b[0;34m,\u001b[0m \u001b[0mimage_class\u001b[0m\u001b[0;34m,\u001b[0m \u001b[0mimage\u001b[0m\u001b[0;34m)\u001b[0m\u001b[0;34m\u001b[0m\u001b[0;34m\u001b[0m\u001b[0m\n\u001b[1;32m      5\u001b[0m         \u001b[0;32mtry\u001b[0m\u001b[0;34m:\u001b[0m\u001b[0;34m\u001b[0m\u001b[0;34m\u001b[0m\u001b[0m\n\u001b[0;32m----> 6\u001b[0;31m             \u001b[0mimg\u001b[0m \u001b[0;34m=\u001b[0m \u001b[0mcv2\u001b[0m\u001b[0;34m.\u001b[0m\u001b[0mimread\u001b[0m\u001b[0;34m(\u001b[0m\u001b[0mimage_path\u001b[0m\u001b[0;34m)\u001b[0m \u001b[0;31m#not a valid image\u001b[0m\u001b[0;34m\u001b[0m\u001b[0;34m\u001b[0m\u001b[0m\n\u001b[0m\u001b[1;32m      7\u001b[0m             \u001b[0mtip\u001b[0m \u001b[0;34m=\u001b[0m \u001b[0mimghdr\u001b[0m\u001b[0;34m.\u001b[0m\u001b[0mwhat\u001b[0m\u001b[0;34m(\u001b[0m\u001b[0mimage_path\u001b[0m\u001b[0;34m)\u001b[0m \u001b[0;31m#not a valid image extension\u001b[0m\u001b[0;34m\u001b[0m\u001b[0;34m\u001b[0m\u001b[0m\n\u001b[1;32m      8\u001b[0m             \u001b[0;32mif\u001b[0m \u001b[0mtip\u001b[0m \u001b[0;32mnot\u001b[0m \u001b[0;32min\u001b[0m \u001b[0mimage_extensions\u001b[0m\u001b[0;34m:\u001b[0m\u001b[0;34m\u001b[0m\u001b[0;34m\u001b[0m\u001b[0m\n",
            "\u001b[0;31mKeyboardInterrupt\u001b[0m: "
          ]
        }
      ],
      "source": [
        "# for loop - looping through directory and then every image to check if they can be used by cv2 and imghdr if not then they are removed\n",
        "for image_class in os.listdir(data_dir):\n",
        "    for image in os.listdir(os.path.join(data_dir, image_class)):\n",
        "        image_path = os.path.join(data_dir, image_class, image)\n",
        "        try:\n",
        "            img = cv2.imread(image_path) #not a valid image\n",
        "            tip = imghdr.what(image_path) #not a valid image extension\n",
        "            if tip not in image_extensions:\n",
        "                print('Image not in ext list {}'.format(image_path))\n",
        "                os.remove(image_path)\n",
        "        except Exception as e:\n",
        "            print('Issue with image {}'.format(image_path))\n",
        "            # os.remove(image_path)"
      ],
      "id": "eb0a7cef-e796-4b16-8f42-c7b00358a2c0"
    },
    {
      "cell_type": "code",
      "execution_count": null,
      "metadata": {
        "id": "edfabcc9-81e5-4c63-8993-7aa34aee7e31"
      },
      "outputs": [],
      "source": [
        "#How many classes are there?\n",
        "num_classes = 0\n",
        "\n",
        "#Iterate Directory\n",
        "for path in os.listdir(data_dir):\n",
        "    num_classes += 1\n",
        "print ('File count:', num_classes)\n"
      ],
      "id": "edfabcc9-81e5-4c63-8993-7aa34aee7e31"
    },
    {
      "cell_type": "markdown",
      "metadata": {
        "id": "94750004-cf8d-4408-81ff-2afafb6d0f50"
      },
      "source": [
        "# 2.0. Load Data"
      ],
      "id": "94750004-cf8d-4408-81ff-2afafb6d0f50"
    },
    {
      "cell_type": "code",
      "execution_count": null,
      "metadata": {
        "id": "3cce3e8d-5281-4711-8fd9-00f5678d4678"
      },
      "outputs": [],
      "source": [
        "import numpy as np\n",
        "from matplotlib import pyplot as plt"
      ],
      "id": "3cce3e8d-5281-4711-8fd9-00f5678d4678"
    },
    {
      "cell_type": "code",
      "execution_count": null,
      "metadata": {
        "id": "7da99da9-d141-4ec8-a9dd-6466c66e700d"
      },
      "outputs": [],
      "source": [
        "#Build the data pipeline\n",
        "data = tf.keras.utils.image_dataset_from_directory(\n",
        "    '/content/drive/MyDrive/leafhealth/data',\n",
        "    labels='inferred',\n",
        "    label_mode='binary',\n",
        "    class_names=None,\n",
        "    color_mode='rgb',\n",
        "    batch_size=32,\n",
        "    image_size=(224, 224),\n",
        "    shuffle=True,\n",
        "    seed=None,\n",
        "    validation_split=None,\n",
        "    subset=None,\n",
        "    interpolation='bilinear',\n",
        "    follow_links=False,\n",
        "    crop_to_aspect_ratio=False,\n",
        ")"
      ],
      "id": "7da99da9-d141-4ec8-a9dd-6466c66e700d"
    },
    {
      "cell_type": "code",
      "execution_count": null,
      "metadata": {
        "id": "9082df8c-7aa1-43e2-a51a-f72d6f622d03"
      },
      "outputs": [],
      "source": [
        "len(data)"
      ],
      "id": "9082df8c-7aa1-43e2-a51a-f72d6f622d03"
    },
    {
      "cell_type": "code",
      "execution_count": null,
      "metadata": {
        "id": "2d664e80-6194-43ec-baf9-791ac2e55f65"
      },
      "outputs": [],
      "source": [
        "data_iterator = data.as_numpy_iterator() #access the generator from data pipeline - allowing us to loop through data pipeline"
      ],
      "id": "2d664e80-6194-43ec-baf9-791ac2e55f65"
    },
    {
      "cell_type": "code",
      "execution_count": null,
      "metadata": {
        "id": "7aff67e2-95f0-4f6c-9091-ce980f1b079c"
      },
      "outputs": [],
      "source": [
        "batch = data_iterator.next() #accessing the data piepline itself"
      ],
      "id": "7aff67e2-95f0-4f6c-9091-ce980f1b079c"
    },
    {
      "cell_type": "code",
      "execution_count": null,
      "metadata": {
        "id": "ebdf2815-de5f-41e7-a523-8693c79b7ef1",
        "scrolled": true
      },
      "outputs": [],
      "source": [
        "# for loop - looping through the images and classifying them as healthy = 0 and unhealthy = 1\n",
        "#shows the classifications 0=healthy, 1 = unhealthy\n",
        "fig, ax = plt.subplots(ncols=4, figsize=(20,20))\n",
        "for idx, img in enumerate(batch[0][:4]):\n",
        "    ax[idx].imshow(img.astype(int))\n",
        "    ax[idx].title.set_text(batch[1][idx])"
      ],
      "id": "ebdf2815-de5f-41e7-a523-8693c79b7ef1"
    },
    {
      "cell_type": "markdown",
      "metadata": {
        "id": "0854eaf6-df51-48f3-a7f2-1b84470b3631"
      },
      "source": [
        "# 3.0. Pre-Processing Data"
      ],
      "id": "0854eaf6-df51-48f3-a7f2-1b84470b3631"
    },
    {
      "cell_type": "markdown",
      "metadata": {
        "id": "24e9020a-dff5-43bc-a81a-8e3334d6c8b2"
      },
      "source": [
        "## 3.1. Scale Data"
      ],
      "id": "24e9020a-dff5-43bc-a81a-8e3334d6c8b2"
    },
    {
      "cell_type": "code",
      "execution_count": null,
      "metadata": {
        "id": "4e80e237-6f23-4985-8d13-6cd68760a8ad"
      },
      "outputs": [],
      "source": [
        "data = data.map(lambda x,y: (x/255, y)) #map - applies a particular transformation as data is being preprocessed by the data pipeline... x = images, y = target values"
      ],
      "id": "4e80e237-6f23-4985-8d13-6cd68760a8ad"
    },
    {
      "cell_type": "code",
      "execution_count": null,
      "metadata": {
        "id": "2779d8e0-6be7-4500-a793-314f4c40659b"
      },
      "outputs": [],
      "source": [
        "scaled_iterator=data.as_numpy_iterator()"
      ],
      "id": "2779d8e0-6be7-4500-a793-314f4c40659b"
    },
    {
      "cell_type": "code",
      "execution_count": null,
      "metadata": {
        "id": "219f101b-76cc-40b6-8e42-f384e0280bd8"
      },
      "outputs": [],
      "source": [
        "batch = scaled_iterator.next()"
      ],
      "id": "219f101b-76cc-40b6-8e42-f384e0280bd8"
    },
    {
      "cell_type": "code",
      "execution_count": null,
      "metadata": {
        "id": "03edc450-566e-446e-922f-a83b4320aaf6"
      },
      "outputs": [],
      "source": [
        "#CHECK FOR BATCH MAX AND MIN 0 - 1\n",
        "#batch [0].min()\n",
        "batch [0].max()"
      ],
      "id": "03edc450-566e-446e-922f-a83b4320aaf6"
    },
    {
      "cell_type": "code",
      "execution_count": null,
      "metadata": {
        "id": "fe9e77d6-2796-4fd5-b809-b67526224ef5"
      },
      "outputs": [],
      "source": [
        "#CHECK IF IMAGES ARE LOADED AND SCALED\n",
        "fig, ax = plt.subplots(ncols=4, figsize=(20,20))\n",
        "for idx, img in enumerate(batch[0][:4]):\n",
        "    ax[idx].imshow(img)\n",
        "    ax[idx].title.set_text(batch[1][idx])\n",
        "    #shows the classifications unhealthy = 1 and healthy = 0"
      ],
      "id": "fe9e77d6-2796-4fd5-b809-b67526224ef5"
    },
    {
      "cell_type": "markdown",
      "metadata": {
        "id": "1353f6e3-9e14-41f6-8c6c-12ec6fbbd2ae"
      },
      "source": [
        "## 3.2. Split Data"
      ],
      "id": "1353f6e3-9e14-41f6-8c6c-12ec6fbbd2ae"
    },
    {
      "cell_type": "code",
      "execution_count": null,
      "metadata": {
        "id": "29553913-f295-4d41-a78e-064ce788bc8a"
      },
      "outputs": [],
      "source": [
        "#Partitian Allocation\n",
        "train_size = np.array((len(data)*.7)) #training will be 70% of data\n",
        "val_size = np.array((len(data)*.2)) #20% for validation\n",
        "test_size = np.array((len(data)*.1+1)) #10% testing + 1 because the data is an uneven number"
      ],
      "id": "29553913-f295-4d41-a78e-064ce788bc8a"
    },
    {
      "cell_type": "code",
      "execution_count": null,
      "metadata": {
        "id": "8ad15a8a-65d7-4287-bb31-ac1e3fc3701f"
      },
      "outputs": [],
      "source": [
        "#CHECK that it is equal to length\n",
        "train_size+val_size+test_size"
      ],
      "id": "8ad15a8a-65d7-4287-bb31-ac1e3fc3701f"
    },
    {
      "cell_type": "code",
      "execution_count": null,
      "metadata": {
        "id": "1677ebc7-1308-45b8-bac4-ff5f793004b8"
      },
      "outputs": [],
      "source": [
        "train = data.take(train_size)\n",
        "val = data.skip(train_size).take(val_size)\n",
        "test = data.skip(train_size+val_size).take(test_size)"
      ],
      "id": "1677ebc7-1308-45b8-bac4-ff5f793004b8"
    },
    {
      "cell_type": "code",
      "execution_count": null,
      "metadata": {
        "id": "c98dd4b5-b825-4303-8e87-2dad4a93caf1"
      },
      "outputs": [],
      "source": [
        "len(test)"
      ],
      "id": "c98dd4b5-b825-4303-8e87-2dad4a93caf1"
    },
    {
      "cell_type": "markdown",
      "metadata": {
        "id": "fb8dc773-3e8c-43ec-91da-4330cd979223"
      },
      "source": [
        "# 4.0. Deep Learning Model"
      ],
      "id": "fb8dc773-3e8c-43ec-91da-4330cd979223"
    },
    {
      "cell_type": "markdown",
      "metadata": {
        "id": "b1431495-9f1b-4cd0-9254-5ddc1f247f38"
      },
      "source": [
        "## 4.1. Load VGG16 Model"
      ],
      "id": "b1431495-9f1b-4cd0-9254-5ddc1f247f38"
    },
    {
      "cell_type": "code",
      "execution_count": null,
      "metadata": {
        "id": "e55ef345-1825-4500-9d55-92dcbdac009a"
      },
      "outputs": [],
      "source": [
        "from tensorflow.keras.applications.vgg16 import VGG16, preprocess_input, decode_predictions\n",
        "from tensorflow.keras.models import Sequential\n",
        "from tensorflow.keras.layers import Dense, Flatten, Dropout\n",
        "from tensorflow.keras.preprocessing.image import load_img, img_to_array\n",
        "from tensorflow.keras.optimizers import Adam\n",
        "from tensorflow.keras.optimizers import SGD\n",
        "from tensorflow.keras.models import Model\n"
      ],
      "id": "e55ef345-1825-4500-9d55-92dcbdac009a"
    },
    {
      "cell_type": "code",
      "execution_count": null,
      "metadata": {
        "id": "3xYsIzrj-9uP"
      },
      "outputs": [],
      "source": [
        "base_model = VGG16(weights='imagenet', include_top=False, input_shape=(224, 224, 3))"
      ],
      "id": "3xYsIzrj-9uP"
    },
    {
      "cell_type": "code",
      "execution_count": null,
      "metadata": {
        "id": "_RCQIfbe-CLA"
      },
      "outputs": [],
      "source": [
        "# Freeze the pre-trained layers to prevent them from being updated during training\n",
        "for layer in base_model.layers:\n",
        "    layer.trainable = False"
      ],
      "id": "_RCQIfbe-CLA"
    },
    {
      "cell_type": "code",
      "execution_count": null,
      "metadata": {
        "id": "-TnhuMEg_QGV"
      },
      "outputs": [],
      "source": [
        "# Add custom classification layers on top of VGG16\n",
        "x = Flatten()(base_model.output)\n",
        "x = Dense(512, activation='relu')(x)\n",
        "x = Dropout(0.5)(x)  # Optional: Add dropout for regularization\n",
        "output = Dense(1, activation='sigmoid')(x)  # Binary classification output\n"
      ],
      "id": "-TnhuMEg_QGV"
    },
    {
      "cell_type": "code",
      "source": [
        "# Create the model\n",
        "model = Model(inputs=base_model.input, outputs=output)"
      ],
      "metadata": {
        "id": "gkXCklTtef8O"
      },
      "id": "gkXCklTtef8O",
      "execution_count": null,
      "outputs": []
    },
    {
      "cell_type": "code",
      "execution_count": null,
      "metadata": {
        "id": "fPmv7trGjk9V"
      },
      "outputs": [],
      "source": [
        "model.summary()"
      ],
      "id": "fPmv7trGjk9V"
    },
    {
      "cell_type": "code",
      "execution_count": null,
      "metadata": {
        "id": "8a0326d2-7305-4e85-9ec6-93fc9a257160"
      },
      "outputs": [],
      "source": [
        "# Compile the model\n",
        "model.compile(\n",
        "    optimizer=Adam(learning_rate=0.0001),  # Adjust the learning rate as needed\n",
        "    loss='binary_crossentropy',  # Binary cross-entropy for binary classification\n",
        "    metrics=['accuracy']\n",
        ")"
      ],
      "id": "8a0326d2-7305-4e85-9ec6-93fc9a257160"
    },
    {
      "cell_type": "markdown",
      "metadata": {
        "id": "460af860-cb9d-4166-b64d-4c557c7dfcd2"
      },
      "source": [
        "## 4.2. Train"
      ],
      "id": "460af860-cb9d-4166-b64d-4c557c7dfcd2"
    },
    {
      "cell_type": "code",
      "execution_count": null,
      "metadata": {
        "id": "595b5d97-80d9-4589-917b-6c8605717b69"
      },
      "outputs": [],
      "source": [
        "from tensorflow.keras.callbacks import TensorBoard"
      ],
      "id": "595b5d97-80d9-4589-917b-6c8605717b69"
    },
    {
      "cell_type": "code",
      "execution_count": null,
      "metadata": {
        "id": "0ca6717a-4c78-4e0d-aa57-2941ae943e23"
      },
      "outputs": [],
      "source": [
        "logdir='logs'"
      ],
      "id": "0ca6717a-4c78-4e0d-aa57-2941ae943e23"
    },
    {
      "cell_type": "code",
      "execution_count": null,
      "metadata": {
        "id": "c00b0899-32f5-433a-9344-0737b9504c43"
      },
      "outputs": [],
      "source": [
        "tensorboard_callback = tf.keras.callbacks.TensorBoard(log_dir=logdir)"
      ],
      "id": "c00b0899-32f5-433a-9344-0737b9504c43"
    },
    {
      "cell_type": "code",
      "execution_count": null,
      "metadata": {
        "id": "5eecf4ee-ebc7-40a8-bcfa-020b86b540fd"
      },
      "outputs": [],
      "source": [
        "hist = model.fit(train, epochs=10, validation_data=val) #fit is the training function"
      ],
      "id": "5eecf4ee-ebc7-40a8-bcfa-020b86b540fd"
    },
    {
      "cell_type": "markdown",
      "metadata": {
        "id": "08bfb9ba-7656-4989-bdd4-e3d74c800bae"
      },
      "source": [
        "## 4.3. Plot Performance"
      ],
      "id": "08bfb9ba-7656-4989-bdd4-e3d74c800bae"
    },
    {
      "cell_type": "code",
      "execution_count": 75,
      "metadata": {
        "colab": {
          "base_uri": "https://localhost:8080/",
          "height": 478
        },
        "id": "bd1ec7b4-3812-42d3-8dbb-f949bb223f64",
        "outputId": "cdad0d87-0cef-4c16-ef30-9d55e8823eed"
      },
      "outputs": [
        {
          "output_type": "display_data",
          "data": {
            "text/plain": [
              "<Figure size 640x480 with 1 Axes>"
            ],
            "image/png": "[encoded data removed]"
          },
          "metadata": {}
        }
      ],
      "source": [
        "fig = plt.figure()\n",
        "plt.plot(hist.history['loss'], color='teal', label='loss')\n",
        "plt.plot(hist.history['val_loss'], color='orange', label='val_loss')\n",
        "fig.suptitle('Loss', fontsize=20)\n",
        "plt.legend(loc=\"upper left\")\n",
        "plt.show()"
      ],
      "id": "bd1ec7b4-3812-42d3-8dbb-f949bb223f64"
    },
    {
      "cell_type": "code",
      "execution_count": 87,
      "metadata": {
        "colab": {
          "base_uri": "https://localhost:8080/",
          "height": 478
        },
        "id": "4ab696ef-6e94-4a82-b73d-ee305390c510",
        "outputId": "5ba2f35c-c679-494d-9d0b-d3fe3b611c56"
      },
      "outputs": [
        {
          "output_type": "display_data",
          "data": {
            "text/plain": [
              "<Figure size 640x480 with 1 Axes>"
            ],
            "image/png": "[encoded data removed]"
          },
          "metadata": {}
        }
      ],
      "source": [
        "fig = plt.figure()\n",
        "plt.plot(hist.history['accuracy'], color='teal', label='accuracy')\n",
        "plt.plot(hist.history['val_accuracy'], color='orange', label='val_accuracy')\n",
        "fig.suptitle('Accuracy', fontsize=20)\n",
        "plt.legend(loc=\"upper left\")\n",
        "plt.show()"
      ],
      "id": "4ab696ef-6e94-4a82-b73d-ee305390c510"
    },
    {
      "cell_type": "markdown",
      "metadata": {
        "id": "8c9cc62a-b2a7-4568-9a20-b25e9a445958"
      },
      "source": [
        "# 5.0 Evaluate"
      ],
      "id": "8c9cc62a-b2a7-4568-9a20-b25e9a445958"
    },
    {
      "cell_type": "code",
      "execution_count": null,
      "metadata": {
        "id": "8adb0ebe-84da-4dfe-911d-c3fcaaba8b46"
      },
      "outputs": [],
      "source": [
        "from tensorflow.keras.metrics import Precision, Recall, BinaryAccuracy"
      ],
      "id": "8adb0ebe-84da-4dfe-911d-c3fcaaba8b46"
    },
    {
      "cell_type": "code",
      "execution_count": null,
      "metadata": {
        "id": "aeb9205e-a298-4333-8e41-e10003d0da94"
      },
      "outputs": [],
      "source": [
        "pre = Precision()\n",
        "re = Recall()\n",
        "acc = BinaryAccuracy()"
      ],
      "id": "aeb9205e-a298-4333-8e41-e10003d0da94"
    },
    {
      "cell_type": "code",
      "execution_count": null,
      "metadata": {
        "id": "ee4b830b-b133-471e-b542-3e89ccea47b8"
      },
      "outputs": [],
      "source": [
        "for batch in test.as_numpy_iterator():\n",
        "    X, y = batch\n",
        "    yhat = model.predict(X)\n",
        "    pre.update_state(y, yhat)\n",
        "    re.update_state(y, yhat)\n",
        "    acc.update_state(y, yhat)"
      ],
      "id": "ee4b830b-b133-471e-b542-3e89ccea47b8"
    },
    {
      "cell_type": "code",
      "execution_count": null,
      "metadata": {
        "id": "3c52acca-04d3-4117-8e16-463a8e2cdbdc"
      },
      "outputs": [],
      "source": [
        "print(f'Precision:{pre.result().numpy()}, Recall:{re.result().numpy()}, Accuracy: {acc.result().numpy()}')"
      ],
      "id": "3c52acca-04d3-4117-8e16-463a8e2cdbdc"
    },
    {
      "cell_type": "markdown",
      "metadata": {
        "id": "5bb5d4bb-1962-49d0-9eed-984881a54807"
      },
      "source": [
        "## 5.1 Predications"
      ],
      "id": "5bb5d4bb-1962-49d0-9eed-984881a54807"
    },
    {
      "cell_type": "code",
      "execution_count": null,
      "metadata": {
        "id": "f9300e3c-75e6-483c-916b-9d736c15cb62"
      },
      "outputs": [],
      "source": [
        "def plotImages(images_arr):\n",
        "    fig, axes = plt.subplots(1, 10, figsize=(20,20))\n",
        "    axes = axes.flatten()\n",
        "    for img, ax in zip( images_arr, axes):\n",
        "        ax.imshow(img)\n",
        "        ax.axis('off')\n",
        "    plt.tight_layout()\n",
        "    plt.show()"
      ],
      "id": "f9300e3c-75e6-483c-916b-9d736c15cb62"
    },
    {
      "cell_type": "code",
      "execution_count": null,
      "metadata": {
        "id": "ca4a3aad-9637-4bc1-be3e-daa4cd18954b"
      },
      "outputs": [],
      "source": [
        "test_labels = y"
      ],
      "id": "ca4a3aad-9637-4bc1-be3e-daa4cd18954b"
    },
    {
      "cell_type": "code",
      "execution_count": null,
      "metadata": {
        "id": "4e2508dd-23cd-456e-8b44-7211210440e6"
      },
      "outputs": [],
      "source": [
        "plotImages(X)\n",
        "print(test_labels)"
      ],
      "id": "4e2508dd-23cd-456e-8b44-7211210440e6"
    },
    {
      "cell_type": "code",
      "execution_count": null,
      "metadata": {
        "id": "0dfd5292-988b-44f1-89df-d0bebd66b9d7"
      },
      "outputs": [],
      "source": [
        "predictions = yhat"
      ],
      "id": "0dfd5292-988b-44f1-89df-d0bebd66b9d7"
    },
    {
      "cell_type": "code",
      "execution_count": null,
      "metadata": {
        "id": "d1417325-1edd-4447-9289-4d7b1510bafb"
      },
      "outputs": [],
      "source": [
        "flatten_pred = predictions.flatten()"
      ],
      "id": "d1417325-1edd-4447-9289-4d7b1510bafb"
    },
    {
      "cell_type": "code",
      "execution_count": null,
      "metadata": {
        "id": "615abd07-caa2-464e-8885-5f9dea8ecc3d"
      },
      "outputs": [],
      "source": [
        "# Convert to 0 and 1\n",
        "round_pred=[]\n",
        "\n",
        "for x in flatten_pred:\n",
        "    if x < 0:\n",
        "        x=0\n",
        "    else:\n",
        "        x=1\n",
        "    round_pred.append(x)"
      ],
      "id": "615abd07-caa2-464e-8885-5f9dea8ecc3d"
    },
    {
      "cell_type": "code",
      "execution_count": null,
      "metadata": {
        "id": "0002a1db-51c4-42fc-ae3b-52fe124b0737"
      },
      "outputs": [],
      "source": [
        "round_pred=np.array(round_pred)"
      ],
      "id": "0002a1db-51c4-42fc-ae3b-52fe124b0737"
    },
    {
      "cell_type": "code",
      "execution_count": null,
      "metadata": {
        "id": "eff6d6d3-7b7d-40a1-82ff-86389c737f64"
      },
      "outputs": [],
      "source": [
        "round_pred"
      ],
      "id": "eff6d6d3-7b7d-40a1-82ff-86389c737f64"
    },
    {
      "cell_type": "code",
      "execution_count": null,
      "metadata": {
        "id": "7832ef81-40ac-441a-8d9a-159dadc1fa67"
      },
      "outputs": [],
      "source": [
        "test_labels"
      ],
      "id": "7832ef81-40ac-441a-8d9a-159dadc1fa67"
    },
    {
      "cell_type": "markdown",
      "metadata": {
        "id": "7acce02d-763c-4689-88fb-141958980c5e"
      },
      "source": [
        "## 5.2 Confusion Matrix"
      ],
      "id": "7acce02d-763c-4689-88fb-141958980c5e"
    },
    {
      "cell_type": "code",
      "execution_count": null,
      "metadata": {
        "id": "fd6697a4-8358-4cf5-a61f-da112821a41f"
      },
      "outputs": [],
      "source": [
        "from sklearn.metrics import confusion_matrix\n",
        "import itertools\n",
        "import matplotlib.pyplot as plt"
      ],
      "id": "fd6697a4-8358-4cf5-a61f-da112821a41f"
    },
    {
      "cell_type": "code",
      "execution_count": null,
      "metadata": {
        "id": "96c9b48e-0ebc-4573-a453-fb10a547c0b3"
      },
      "outputs": [],
      "source": [
        "cm = confusion_matrix(y_true=test_labels, y_pred=round_pred)"
      ],
      "id": "96c9b48e-0ebc-4573-a453-fb10a547c0b3"
    },
    {
      "cell_type": "code",
      "execution_count": null,
      "metadata": {
        "id": "520bd8da-5fce-4b7b-9ca9-5d45899192ed"
      },
      "outputs": [],
      "source": [
        "def plot_confusion_matrix(cm, classes,\n",
        "                        normalize=False,\n",
        "                        title='Confusion matrix',\n",
        "                        cmap=plt.cm.Blues):\n",
        "    \"\"\"\n",
        "    This function prints and plots the confusion matrix.\n",
        "    Normalization can be applied by setting `normalize=True`.\n",
        "    \"\"\"\n",
        "    plt.imshow(cm, interpolation='nearest', cmap=cmap)\n",
        "    plt.title(title)\n",
        "    plt.colorbar()\n",
        "    tick_marks = np.arange(len(classes))\n",
        "    plt.xticks(tick_marks, classes, rotation=45)\n",
        "    plt.yticks(tick_marks, classes)\n",
        "\n",
        "    if normalize:\n",
        "        cm = cm.astype('float') / cm.sum(axis=1)[:, np.newaxis]\n",
        "        print(\"Normalized confusion matrix\")\n",
        "    else:\n",
        "        print('Confusion matrix, without normalization')\n",
        "\n",
        "    print(cm)\n",
        "\n",
        "    thresh = cm.max() / 2.\n",
        "    for i, j in itertools.product(range(cm.shape[0]), range(cm.shape[1])):\n",
        "        plt.text(j, i, cm[i, j],\n",
        "            horizontalalignment=\"center\",\n",
        "            color=\"white\" if cm[i, j] > thresh else \"black\")\n",
        "\n",
        "    plt.tight_layout()\n",
        "    plt.ylabel('True label')\n",
        "    plt.xlabel('Predicted label')"
      ],
      "id": "520bd8da-5fce-4b7b-9ca9-5d45899192ed"
    },
    {
      "cell_type": "code",
      "execution_count": null,
      "metadata": {
        "id": "20d2be96-507f-47b8-bf99-721588cc309f"
      },
      "outputs": [],
      "source": [
        "cm_plot_labels = ['healthy','unhealthy']"
      ],
      "id": "20d2be96-507f-47b8-bf99-721588cc309f"
    },
    {
      "cell_type": "code",
      "execution_count": null,
      "metadata": {
        "id": "7c70f1ea-fc1c-4918-8abe-f7907a60a039"
      },
      "outputs": [],
      "source": [
        "plot_confusion_matrix(cm=cm, classes=cm_plot_labels, title='Confusion Matrix')"
      ],
      "id": "7c70f1ea-fc1c-4918-8abe-f7907a60a039"
    },
    {
      "cell_type": "markdown",
      "metadata": {
        "id": "affec167-f53f-44d9-a38b-ed33132932ec"
      },
      "source": [
        "# 6.0 Test"
      ],
      "id": "affec167-f53f-44d9-a38b-ed33132932ec"
    },
    {
      "cell_type": "code",
      "execution_count": null,
      "metadata": {
        "id": "3d596a8c-76dc-4c75-8afa-29a49f31db30"
      },
      "outputs": [],
      "source": [
        "import cv2\n",
        "from matplotlib import pyplot as plt"
      ],
      "id": "3d596a8c-76dc-4c75-8afa-29a49f31db30"
    },
    {
      "cell_type": "code",
      "execution_count": null,
      "metadata": {
        "id": "5004ec2e-80f8-41af-8e2b-4963afb74105"
      },
      "outputs": [],
      "source": [
        "img = cv2.imread('healthy_test.jpg')\n",
        "plt.imshow(img)\n",
        "plt.show()"
      ],
      "id": "5004ec2e-80f8-41af-8e2b-4963afb74105"
    },
    {
      "cell_type": "code",
      "execution_count": null,
      "metadata": {
        "id": "20b33594-c75c-4614-8cf1-e2b0c9b458f6"
      },
      "outputs": [],
      "source": [
        "resize = tf.image.resize(img, (256,256))\n",
        "plt.imshow(resize.numpy().astype(int))\n",
        "plt.show()"
      ],
      "id": "20b33594-c75c-4614-8cf1-e2b0c9b458f6"
    },
    {
      "cell_type": "code",
      "execution_count": null,
      "metadata": {
        "id": "e3681c09-e445-48b3-8d0e-1475020be4af"
      },
      "outputs": [],
      "source": [
        "yhat = model.predict(np.expand_dims(resize/255, 0))"
      ],
      "id": "e3681c09-e445-48b3-8d0e-1475020be4af"
    },
    {
      "cell_type": "code",
      "execution_count": null,
      "metadata": {
        "id": "91e562ae-8caf-4829-a73a-59d55bc5f103"
      },
      "outputs": [],
      "source": [
        "yhat"
      ],
      "id": "91e562ae-8caf-4829-a73a-59d55bc5f103"
    },
    {
      "cell_type": "code",
      "execution_count": null,
      "metadata": {
        "id": "4f9940d7-b0e4-449a-97bd-9ee587f1d82f"
      },
      "outputs": [],
      "source": [
        "if yhat > 0.5:\n",
        "    print(f'Predicted class is Unhealthy')\n",
        "else:\n",
        "    print(f'Predicted class is Healthy')"
      ],
      "id": "4f9940d7-b0e4-449a-97bd-9ee587f1d82f"
    },
    {
      "cell_type": "markdown",
      "metadata": {
        "id": "e7cf344e-6610-4d61-bd95-e593f47ffbdb"
      },
      "source": [
        "# 7.0 Save Model"
      ],
      "id": "e7cf344e-6610-4d61-bd95-e593f47ffbdb"
    },
    {
      "cell_type": "code",
      "execution_count": null,
      "metadata": {
        "id": "dc403c13-b4c0-4e83-8626-45d3c619e83b"
      },
      "outputs": [],
      "source": [
        "from tensorflow.keras.models import load_model"
      ],
      "id": "dc403c13-b4c0-4e83-8626-45d3c619e83b"
    },
    {
      "cell_type": "code",
      "execution_count": null,
      "metadata": {
        "id": "7810655a-3a45-4768-8eb0-7ff5eeb1b9f9"
      },
      "outputs": [],
      "source": [
        "model.save(os.path.join('models','leafhealth.h5'))"
      ],
      "id": "7810655a-3a45-4768-8eb0-7ff5eeb1b9f9"
    },
    {
      "cell_type": "code",
      "execution_count": null,
      "metadata": {
        "id": "d48a1c79-7a03-49b1-b788-bfbf30f71c5b"
      },
      "outputs": [],
      "source": [
        "new_model = load_model('models/leafhealth.h5')"
      ],
      "id": "d48a1c79-7a03-49b1-b788-bfbf30f71c5b"
    },
    {
      "cell_type": "code",
      "execution_count": null,
      "metadata": {
        "id": "7d9945c9-9824-4c89-8bc0-25288a52d1cb"
      },
      "outputs": [],
      "source": [
        "new_model.predict(np.expand_dims(resize/255, 0))"
      ],
      "id": "7d9945c9-9824-4c89-8bc0-25288a52d1cb"
    },
    {
      "cell_type": "code",
      "execution_count": null,
      "metadata": {
        "id": "60f2c2d9-c631-4547-8b4d-a1c2485dddfc"
      },
      "outputs": [],
      "source": [
        "#Verify that laoded model has the same achitecture and weights as the saved model\n",
        "new_model.summary()"
      ],
      "id": "60f2c2d9-c631-4547-8b4d-a1c2485dddfc"
    },
    {
      "cell_type": "markdown",
      "metadata": {
        "id": "2e45a351-c4de-479e-95e4-abe674b14c4a"
      },
      "source": [
        "# 8.0 Augmentation"
      ],
      "id": "2e45a351-c4de-479e-95e4-abe674b14c4a"
    },
    {
      "cell_type": "markdown",
      "metadata": {
        "id": "ef129824-b43b-4afe-820e-dcd4cf9158ca"
      },
      "source": [
        "NEED TO ADJUST SO THAT WHEN RUN THROUGH ONCE IT AUGMENTS ALL THE DATA"
      ],
      "id": "ef129824-b43b-4afe-820e-dcd4cf9158ca"
    },
    {
      "cell_type": "code",
      "execution_count": null,
      "metadata": {
        "id": "31063c5f-4509-46b8-847b-5273c492a5db"
      },
      "outputs": [],
      "source": [
        "import matplotlib.pyplot as plt\n",
        "import numpy as np\n",
        "import os\n",
        "import random\n",
        "import tensorflow as tf\n",
        "from tensorflow import keras\n",
        "from tensorflow.keras.preprocessing.image import ImageDataGenerator\n",
        "%matplotlib inline"
      ],
      "id": "31063c5f-4509-46b8-847b-5273c492a5db"
    },
    {
      "cell_type": "code",
      "execution_count": null,
      "metadata": {
        "id": "7b7c6f0d-8ff7-4731-9590-18e02a90baf9"
      },
      "outputs": [],
      "source": [
        "chosen_image = random.choice(os.listdir('data/healthy'))"
      ],
      "id": "7b7c6f0d-8ff7-4731-9590-18e02a90baf9"
    },
    {
      "cell_type": "code",
      "execution_count": null,
      "metadata": {
        "id": "5a9f98f9-75f8-4ec3-8aea-298dacbe2d86"
      },
      "outputs": [],
      "source": [
        "image_path = 'data/healthy/' + chosen_image"
      ],
      "id": "5a9f98f9-75f8-4ec3-8aea-298dacbe2d86"
    },
    {
      "cell_type": "code",
      "execution_count": null,
      "metadata": {
        "id": "74e3c80a-5fbf-433f-83d9-f51cbcac1ecf"
      },
      "outputs": [],
      "source": [
        "image = np.expand_dims(plt.imread(image_path),0)\n",
        "plt.imshow(image[0])"
      ],
      "id": "74e3c80a-5fbf-433f-83d9-f51cbcac1ecf"
    },
    {
      "cell_type": "code",
      "execution_count": null,
      "metadata": {
        "id": "8df2f8d8-17a8-4b9d-b915-2f97c72d5ce5"
      },
      "outputs": [],
      "source": [
        "gen = ImageDataGenerator(rotation_range=10, width_shift_range=0.1, height_shift_range=0.1, shear_range=0.15, zoom_range=0.1,\n",
        "    channel_shift_range=10., horizontal_flip=True)"
      ],
      "id": "8df2f8d8-17a8-4b9d-b915-2f97c72d5ce5"
    },
    {
      "cell_type": "code",
      "execution_count": null,
      "metadata": {
        "id": "7f685960-26bd-4090-ac46-99426cde7ce2"
      },
      "outputs": [],
      "source": [
        "aug_iter = gen.flow(image)\n",
        "aug_images = [next(aug_iter)[0].astype(np.uint8) for i in range(10)]"
      ],
      "id": "7f685960-26bd-4090-ac46-99426cde7ce2"
    },
    {
      "cell_type": "code",
      "execution_count": null,
      "metadata": {
        "id": "88647397-6901-4c1d-9961-7dc977db5d14"
      },
      "outputs": [],
      "source": [
        "plotImages(aug_images)"
      ],
      "id": "88647397-6901-4c1d-9961-7dc977db5d14"
    },
    {
      "cell_type": "code",
      "execution_count": null,
      "metadata": {
        "id": "699a58f8-f4c9-4b03-92fb-eb504eb11762"
      },
      "outputs": [],
      "source": [
        "aug_iter = gen.flow(image, save_to_dir='data/healthy', save_prefix='aug-image-', save_format='jpeg')"
      ],
      "id": "699a58f8-f4c9-4b03-92fb-eb504eb11762"
    }
  ],
  "metadata": {
    "accelerator": "GPU",
    "colab": {
      "collapsed_sections": [
        "b1431495-9f1b-4cd0-9254-5ddc1f247f38",
        "affec167-f53f-44d9-a38b-ed33132932ec",
        "e7cf344e-6610-4d61-bd95-e593f47ffbdb",
        "2e45a351-c4de-479e-95e4-abe674b14c4a"
      ],
      "provenance": [],
      "include_colab_link": true
    },
    "kernelspec": {
      "display_name": "classification",
      "language": "python",
      "name": "classification"
    },
    "language_info": {
      "codemirror_mode": {
        "name": "ipython",
        "version": 3
      },
      "file_extension": ".py",
      "mimetype": "text/x-python",
      "name": "python",
      "nbconvert_exporter": "python",
      "pygments_lexer": "ipython3",
      "version": "3.10.9"
    }
  },
  "nbformat": 4,
  "nbformat_minor": 5
}