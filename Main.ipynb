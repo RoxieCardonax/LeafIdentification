{
 "cells": [
  {
   "cell_type": "markdown",
   "id": "f9542761-7bbe-4c17-92fe-626a78113c5e",
   "metadata": {},
   "source": [
    "1.0. Install Libraries"
   ]
  },
  {
   "cell_type": "code",
   "execution_count": null,
   "id": "b8c9fcc0-19d8-40a8-8aad-9f86348c5497",
   "metadata": {},
   "outputs": [],
   "source": []
  },
  {
   "cell_type": "markdown",
   "id": "abd074b5-74f9-4a66-840f-502d9539f9b5",
   "metadata": {},
   "source": [
    "2.0. Logic"
   ]
  },
  {
   "cell_type": "markdown",
   "id": "4725c5d6-71f1-41ab-aaa6-5c0163540d8b",
   "metadata": {},
   "source": [
    "2.1. Classify Leaf Health"
   ]
  },
  {
   "cell_type": "markdown",
   "id": "1aa911e5-0629-4bc6-91d4-a052695e13f8",
   "metadata": {},
   "source": [
    "2.2. Classify Leaf Species"
   ]
  },
  {
   "cell_type": "markdown",
   "id": "86cd948c-ae5f-444e-b485-568d7a86df30",
   "metadata": {},
   "source": [
    "2.3. Output to GUI"
   ]
  },
  {
   "cell_type": "markdown",
   "id": "966f2816-5d44-4567-9f10-a985a7307499",
   "metadata": {},
   "source": [
    "3.0. Learn from given image"
   ]
  },
  {
   "cell_type": "code",
   "execution_count": null,
   "id": "d459be02-15eb-4931-8fd8-1f38be5fbca1",
   "metadata": {},
   "outputs": [],
   "source": []
  }
 ],
 "metadata": {
  "kernelspec": {
   "display_name": "SVMenv",
   "language": "python",
   "name": "svmenv"
  },
  "language_info": {
   "codemirror_mode": {
    "name": "ipython",
    "version": 3
   },
   "file_extension": ".py",
   "mimetype": "text/x-python",
   "name": "python",
   "nbconvert_exporter": "python",
   "pygments_lexer": "ipython3",
   "version": "3.7.12"
  }
 },
 "nbformat": 4,
 "nbformat_minor": 5
}
