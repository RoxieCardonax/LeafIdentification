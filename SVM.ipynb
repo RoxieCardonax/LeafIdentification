{
 "cells": [
  {
   "cell_type": "markdown",
   "id": "5869025a-01c2-4bbe-a015-26d77468c5c7",
   "metadata": {},
   "source": [
    "1.0 Import Necessary Libraries"
   ]
  },
  {
   "cell_type": "code",
   "execution_count": 1,
   "id": "dc8636a0-dae9-40bc-98c7-0585a26efca9",
   "metadata": {},
   "outputs": [],
   "source": [
    "import os\n",
    "import numpy as np\n",
    "import cv2\n",
    "import matplotlib.pyplot as plt\n",
    "import pickle\n",
    "import random\n",
    "from sklearn.model_selection import train_test_split\n",
    "from sklearn.svm import SVC"
   ]
  },
  {
   "cell_type": "code",
   "execution_count": 2,
   "id": "039293d4-f0a7-4e12-95fb-527cd216050b",
   "metadata": {},
   "outputs": [],
   "source": [
    "dir = 'data'"
   ]
  },
  {
   "cell_type": "code",
   "execution_count": 3,
   "id": "163697f2-9b3a-4481-a09e-3c6ade573624",
   "metadata": {},
   "outputs": [],
   "source": [
    "categories = ['healthy', 'unhealthy']\n",
    "data = []"
   ]
  },
  {
   "cell_type": "code",
   "execution_count": 4,
   "id": "c3486110-b80e-4ed1-9566-d07c62aabbb2",
   "metadata": {},
   "outputs": [
    {
     "name": "stdout",
     "output_type": "stream",
     "text": [
      "0\n"
     ]
    }
   ],
   "source": [
    "for category in categories:\n",
    "    path = os.path.join(dir, category)\n",
    "    label = categories.index(category)\n",
    "    \n",
    "    for img in os.listdir(path):\n",
    "        imgpath = os.path.join(path,img)\n",
    "        leaf_img=cv2.imread(imgpath,0)\n",
    "        try:\n",
    "            pet_img=cv2.resize(leaf_img,(20,29))\n",
    "            image = np.array(leaf_img), flatten() #makes image singular\n",
    "\n",
    "            data.append([image, label])\n",
    "        except Exception as e:\n",
    "            pass\n",
    "        \n",
    "print(len(data))"
   ]
  },
  {
   "cell_type": "code",
   "execution_count": 6,
   "id": "6994b276-3b9a-45f4-8341-b8d736dbdcf7",
   "metadata": {},
   "outputs": [],
   "source": [
    "pick_in = open('data1.pickle', 'wb')\n",
    "pickle.dump(data, pick_in)\n",
    "pick_in.close()"
   ]
  },
  {
   "cell_type": "code",
   "execution_count": 7,
   "id": "cdf3983b-5385-463f-96ea-c9100e1f5f1b",
   "metadata": {},
   "outputs": [],
   "source": [
    "random.shuffle(data)\n",
    "features =[]\n",
    "label =[]"
   ]
  },
  {
   "cell_type": "code",
   "execution_count": 13,
   "id": "1a4717a4-ad04-441b-93fc-d483c3ca3f6c",
   "metadata": {},
   "outputs": [
    {
     "ename": "NameError",
     "evalue": "name 'labels' is not defined",
     "output_type": "error",
     "traceback": [
      "\u001b[1;31m---------------------------------------------------------------------------\u001b[0m",
      "\u001b[1;31mNameError\u001b[0m                                 Traceback (most recent call last)",
      "Cell \u001b[1;32mIn[13], line 4\u001b[0m\n\u001b[0;32m      2\u001b[0m     features\u001b[38;5;241m.\u001b[39mappend(feature)\n\u001b[0;32m      3\u001b[0m     labels\u001b[38;5;241m.\u001b[39mappend(labels)\n\u001b[1;32m----> 4\u001b[0m \u001b[38;5;28mprint\u001b[39m(\u001b[43mlabels\u001b[49m)\n",
      "\u001b[1;31mNameError\u001b[0m: name 'labels' is not defined"
     ]
    }
   ],
   "source": [
    "for feature, labels in data:\n",
    "    features.append(feature)\n",
    "    labels.append(labels)"
   ]
  },
  {
   "cell_type": "code",
   "execution_count": 11,
   "id": "9b460548-8876-41d4-88f6-4f6682fd948a",
   "metadata": {},
   "outputs": [
    {
     "ename": "NameError",
     "evalue": "name 'labels' is not defined",
     "output_type": "error",
     "traceback": [
      "\u001b[1;31m---------------------------------------------------------------------------\u001b[0m",
      "\u001b[1;31mNameError\u001b[0m                                 Traceback (most recent call last)",
      "Cell \u001b[1;32mIn[11], line 1\u001b[0m\n\u001b[1;32m----> 1\u001b[0m xtrain, xtest, ytrain, ytest \u001b[38;5;241m=\u001b[39m train_test_split(features, \u001b[43mlabels\u001b[49m, test_size \u001b[38;5;241m=\u001b[39m \u001b[38;5;28mint\u001b[39m(\u001b[38;5;28mlen\u001b[39m(data)\u001b[38;5;241m*\u001b[39m\u001b[38;5;241m.1\u001b[39m\u001b[38;5;241m+\u001b[39m\u001b[38;5;241m1\u001b[39m))\n",
      "\u001b[1;31mNameError\u001b[0m: name 'labels' is not defined"
     ]
    }
   ],
   "source": [
    "xtrain, xtest, ytrain, ytest = train_test_split(features, labels, test_size = int(len(data)*.1+1))"
   ]
  },
  {
   "cell_type": "code",
   "execution_count": null,
   "id": "009cc1dc-4868-4fb1-a0b3-ca6483c58369",
   "metadata": {},
   "outputs": [],
   "source": [
    "model = SVC(C=1, kernel, 'poly', gamma ='auto')\n",
    "model.fit(xtrain, ytrain)"
   ]
  },
  {
   "cell_type": "code",
   "execution_count": null,
   "id": "b1d03c00-1ad4-4bfd-aa99-52a774c4ce45",
   "metadata": {},
   "outputs": [],
   "source": [
    "pick_in open('model.sav', 'wb')\n",
    "pickle.load(model, pick)\n",
    "pick_in.close()"
   ]
  },
  {
   "cell_type": "code",
   "execution_count": null,
   "id": "d8b317ea-0b15-4848-9a4a-79eb0d8463bd",
   "metadata": {},
   "outputs": [],
   "source": [
    "prediction = model.prediction(xtest, ytest)"
   ]
  },
  {
   "cell_type": "code",
   "execution_count": null,
   "id": "c84ec069-f6fd-4be7-a12d-531c7c3c1daf",
   "metadata": {},
   "outputs": [],
   "source": [
    "accuracy = model.score(xtest, ytest)"
   ]
  },
  {
   "cell_type": "code",
   "execution_count": null,
   "id": "fb0d5ddd-39e6-438c-b137-4123f2a3e942",
   "metadata": {},
   "outputs": [],
   "source": [
    "categories = ['healthy', 'unhealthy']"
   ]
  },
  {
   "cell_type": "code",
   "execution_count": null,
   "id": "1c929260-2971-49e9-b039-7759f327fe99",
   "metadata": {},
   "outputs": [],
   "source": [
    "print('Accuracy:', accuracy)"
   ]
  },
  {
   "cell_type": "code",
   "execution_count": null,
   "id": "cb653459-296d-43be-909f-e819ae2acd4f",
   "metadata": {},
   "outputs": [],
   "source": [
    "print ('Prediction is:', categories[prediction[0]]) "
   ]
  },
  {
   "cell_type": "code",
   "execution_count": null,
   "id": "cad3512b-f483-442c-b179-41fe7fb1776d",
   "metadata": {},
   "outputs": [],
   "source": [
    "leaf=xtest[0].reshape(50,50)"
   ]
  },
  {
   "cell_type": "code",
   "execution_count": null,
   "id": "69210032-c576-4e50-976d-d80c22152017",
   "metadata": {},
   "outputs": [],
   "source": [
    "plt.show(leaf, cmap ='gray')"
   ]
  },
  {
   "cell_type": "code",
   "execution_count": null,
   "id": "05578eb9-1318-495f-a820-7bdc18653bd9",
   "metadata": {},
   "outputs": [],
   "source": [
    "plt.show()"
   ]
  }
 ],
 "metadata": {
  "kernelspec": {
   "display_name": "Python 3 (ipykernel)",
   "language": "python",
   "name": "python3"
  },
  "language_info": {
   "codemirror_mode": {
    "name": "ipython",
    "version": 3
   },
   "file_extension": ".py",
   "mimetype": "text/x-python",
   "name": "python",
   "nbconvert_exporter": "python",
   "pygments_lexer": "ipython3",
   "version": "3.10.9"
  }
 },
 "nbformat": 4,
 "nbformat_minor": 5
}
